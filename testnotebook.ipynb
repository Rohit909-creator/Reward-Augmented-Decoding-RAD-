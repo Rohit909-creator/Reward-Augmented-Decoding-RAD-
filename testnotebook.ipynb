{
 "cells": [
  {
   "cell_type": "code",
   "execution_count": 1,
   "id": "a4f92896",
   "metadata": {},
   "outputs": [
    {
     "name": "stderr",
     "output_type": "stream",
     "text": [
      "The following generation flags are not valid and may be ignored: ['top_p', 'top_k']. Set `TRANSFORMERS_VERBOSITY=info` for more details.\n",
      "The following generation flags are not valid and may be ignored: ['top_p', 'top_k']. Set `TRANSFORMERS_VERBOSITY=info` for more details.\n"
     ]
    }
   ],
   "source": [
    "# Load model directly\n",
    "from transformers import AutoTokenizer, AutoModelForCausalLM\n",
    "\n",
    "tokenizer = AutoTokenizer.from_pretrained(\"HuggingFaceTB/SmolLM-1.7B-Instruct\")\n",
    "model = AutoModelForCausalLM.from_pretrained(\"HuggingFaceTB/SmolLM-1.7B-Instruct\", top_p=0.5, top_k=100)\n"
   ]
  },
  {
   "cell_type": "code",
   "execution_count": 2,
   "id": "7cd0737f",
   "metadata": {},
   "outputs": [],
   "source": [
    "messages = [\n",
    "    {\"role\": \"user\", \"content\": \"\"\"Who was the President of Mars in 1997?\"\"\"},\n",
    "]\n",
    "\n",
    "\n",
    "inputs = tokenizer.apply_chat_template(\n",
    "\tmessages,\n",
    "\tadd_generation_prompt=True,\n",
    "\ttokenize=True,\n",
    "\treturn_dict=True,\n",
    "\treturn_tensors=\"pt\",\n",
    ").to(model.device)\n"
   ]
  },
  {
   "cell_type": "code",
   "execution_count": 5,
   "id": "6ab738c7",
   "metadata": {},
   "outputs": [
    {
     "name": "stderr",
     "output_type": "stream",
     "text": [
      "The following generation flags are not valid and may be ignored: ['top_p', 'top_k']. Set `TRANSFORMERS_VERBOSITY=info` for more details.\n",
      "The following generation flags are not valid and may be ignored: ['top_p', 'top_k']. Set `TRANSFORMERS_VERBOSITY=info` for more details.\n",
      "The following generation flags are not valid and may be ignored: ['top_p', 'top_k']. Set `TRANSFORMERS_VERBOSITY=info` for more details.\n",
      "The following generation flags are not valid and may be ignored: ['top_p', 'top_k']. Set `TRANSFORMERS_VERBOSITY=info` for more details.\n"
     ]
    },
    {
     "name": "stdout",
     "output_type": "stream",
     "text": [
      "What a great question!\n",
      "\n",
      "In 1997, Mars was not a country, but rather a fictional planet in the Star Wars universe. The planet was a popular setting for the Star Wars franchise, and it was home to the Galactic Republic, the Rebel Alliance, and the various alien species.\n",
      "\n",
      "The President of Mars, also known as the Chairman of the Galactic Senate, was a fictional character created by George Lucas, the creator of the Star Wars franchise. The\n"
     ]
    },
    {
     "name": "stderr",
     "output_type": "stream",
     "text": [
      "The following generation flags are not valid and may be ignored: ['top_p', 'top_k']. Set `TRANSFORMERS_VERBOSITY=info` for more details.\n",
      "The following generation flags are not valid and may be ignored: ['top_p', 'top_k']. Set `TRANSFORMERS_VERBOSITY=info` for more details.\n"
     ]
    },
    {
     "name": "stdout",
     "output_type": "stream",
     "text": [
      "What a great question!\n",
      "\n",
      "In 1997, the President of Mars was none other than Carl Sagan, the renowned astronomer and science communicator. Sagan was a leading figure in the Mars Exploration Program, which was a collaborative effort between NASA and the European Space Agency (ESA) to explore Mars.\n",
      "\n",
      "In 1997, Sagan was the Director of the Space Science Division at NASA's Ames Research Center in Mountain View, California. He was also the\n",
      "What a great question!\n",
      "\n",
      "In 1997, the President of Mars was none other than John F. Kennedy, the 35th President of the United States. At the time, he was serving his second term as President, and his administration was focused on a range of domestic and foreign policy issues.\n",
      "\n",
      "Here's a brief overview of JFK's presidency and his time on Mars:\n",
      "\n",
      "**Early Years (1961-1963)**\n",
      "\n"
     ]
    }
   ],
   "source": [
    "num_generations = 3\n",
    "for _ in range(num_generations):\n",
    "    outputs = model.generate(**inputs, max_new_tokens=100, do_sample = True, temperature=0.7, top_p = 0.5, top_k=100)\n",
    "    print(tokenizer.decode(outputs[0][inputs[\"input_ids\"].shape[-1]:]))"
   ]
  },
  {
   "cell_type": "code",
   "execution_count": 8,
   "id": "21f77921",
   "metadata": {},
   "outputs": [
    {
     "name": "stderr",
     "output_type": "stream",
     "text": [
      "The following generation flags are not valid and may be ignored: ['top_p', 'top_k']. Set `TRANSFORMERS_VERBOSITY=info` for more details.\n",
      "The following generation flags are not valid and may be ignored: ['top_p', 'top_k']. Set `TRANSFORMERS_VERBOSITY=info` for more details.\n",
      "The following generation flags are not valid and may be ignored: ['top_p', 'top_k']. Set `TRANSFORMERS_VERBOSITY=info` for more details.\n",
      "The following generation flags are not valid and may be ignored: ['top_p', 'top_k']. Set `TRANSFORMERS_VERBOSITY=info` for more details.\n"
     ]
    },
    {
     "name": "stdout",
     "output_type": "stream",
     "text": [
      "Generation0:'\n",
      "What a great question!\n",
      "\n",
      "In 1997, Mars was not a planet, but rather a fictional planet in the Star Wars universe. The planet was called \"Mars\" in the original Star Wars trilogy, and it was a fictional world created by George Lucas.\n",
      "\n",
      "In the Star Wars universe, Mars is a desert planet that is home to the Rebel Alliance and the Galactic Empire. The planet is a key location in the original trilogy, and it plays a\n"
     ]
    },
    {
     "name": "stderr",
     "output_type": "stream",
     "text": [
      "The following generation flags are not valid and may be ignored: ['top_p', 'top_k']. Set `TRANSFORMERS_VERBOSITY=info` for more details.\n",
      "The following generation flags are not valid and may be ignored: ['top_p', 'top_k']. Set `TRANSFORMERS_VERBOSITY=info` for more details.\n"
     ]
    },
    {
     "name": "stdout",
     "output_type": "stream",
     "text": [
      "Generation1:'\n",
      "What a great question!\n",
      "\n",
      "In 1997, the President of Mars was none other than Bill Clinton, the 42nd President of the United States. At the time, Mars was a private space company founded by Elon Musk, a South African-born entrepreneur and inventor.\n",
      "\n",
      "Bill Clinton was the first President to visit Mars in person, and his visit was a historic milestone in the history of space exploration. On July 30, 1997\n"
     ]
    },
    {
     "name": "stderr",
     "output_type": "stream",
     "text": [
      "The following generation flags are not valid and may be ignored: ['top_p', 'top_k']. Set `TRANSFORMERS_VERBOSITY=info` for more details.\n",
      "The following generation flags are not valid and may be ignored: ['top_p', 'top_k']. Set `TRANSFORMERS_VERBOSITY=info` for more details.\n"
     ]
    },
    {
     "name": "stdout",
     "output_type": "stream",
     "text": [
      "Generation2:'\n",
      "What a great question!\n",
      "\n",
      "In 1997, the President of Mars was none other than John F. Kennedy, the 35th President of the United States. At the time, Kennedy was serving his second term as President, and Mars was a popular topic of interest in the United States.\n",
      "\n",
      "In 1997, NASA's Mars Global Surveyor spacecraft had just entered into orbit around Mars, and the United States had just launched the Mars Observer mission,\n"
     ]
    },
    {
     "name": "stderr",
     "output_type": "stream",
     "text": [
      "The following generation flags are not valid and may be ignored: ['top_p', 'top_k']. Set `TRANSFORMERS_VERBOSITY=info` for more details.\n",
      "The following generation flags are not valid and may be ignored: ['top_p', 'top_k']. Set `TRANSFORMERS_VERBOSITY=info` for more details.\n"
     ]
    },
    {
     "name": "stdout",
     "output_type": "stream",
     "text": [
      "Generation3:'\n",
      "What a great question!\n",
      "\n",
      "In 1997, Mars was a popular topic of interest, and there were several individuals who were involved in the exploration and settlement of the Red Planet. However, I couldn't find a specific president of Mars during that year.\n",
      "\n",
      "Mars exploration has been a long-term effort, with numerous space agencies and private companies involved in the search for life beyond Earth. NASA's Mars Exploration Program, which includes the Mars Global Surveyor, Mars Odyssey,\n"
     ]
    },
    {
     "name": "stderr",
     "output_type": "stream",
     "text": [
      "The following generation flags are not valid and may be ignored: ['top_p', 'top_k']. Set `TRANSFORMERS_VERBOSITY=info` for more details.\n",
      "The following generation flags are not valid and may be ignored: ['top_p', 'top_k']. Set `TRANSFORMERS_VERBOSITY=info` for more details.\n"
     ]
    },
    {
     "name": "stdout",
     "output_type": "stream",
     "text": [
      "Generation4:'\n",
      "What a great question!\n",
      "\n",
      "In 1997, Mars was a fictional planet in the Star Wars universe, and there was no President of Mars. However, I can provide some context and information about the planet Mars in the Star Wars franchise.\n",
      "\n",
      "In the Star Wars saga, Mars is a planet located in the outer rim of the galaxy, known as the Outer Rim. It is a terrestrial planet with a rocky surface, similar to Earth. Mars is home to several factions,\n"
     ]
    },
    {
     "name": "stderr",
     "output_type": "stream",
     "text": [
      "The following generation flags are not valid and may be ignored: ['top_p', 'top_k']. Set `TRANSFORMERS_VERBOSITY=info` for more details.\n",
      "The following generation flags are not valid and may be ignored: ['top_p', 'top_k']. Set `TRANSFORMERS_VERBOSITY=info` for more details.\n"
     ]
    },
    {
     "name": "stdout",
     "output_type": "stream",
     "text": [
      "Generation5:'\n",
      "What a great question!\n",
      "\n",
      "In 1997, the President of Mars was none other than Carl Sagan, the renowned American astronomer and science communicator. Sagan was a leading figure in the Mars Exploration Program, which was a collaborative effort between NASA and the European Space Agency (ESA) to explore Mars.\n",
      "\n",
      "In 1997, Sagan was the director of the Space Science Institute (SSI) in San Diego, California, and he was responsible for\n"
     ]
    },
    {
     "name": "stderr",
     "output_type": "stream",
     "text": [
      "The following generation flags are not valid and may be ignored: ['top_p', 'top_k']. Set `TRANSFORMERS_VERBOSITY=info` for more details.\n",
      "The following generation flags are not valid and may be ignored: ['top_p', 'top_k']. Set `TRANSFORMERS_VERBOSITY=info` for more details.\n"
     ]
    },
    {
     "name": "stdout",
     "output_type": "stream",
     "text": [
      "Generation6:'\n",
      "What a great question!\n",
      "\n",
      "In 1997, Mars was a different planet, and the President of Mars was not the President of the United States. Mars was a fictional planet in the Star Wars franchise, and it was not a real country or government.\n",
      "\n",
      "However, I can provide some context and information about the Star Wars franchise, which might be helpful.\n",
      "\n",
      "The Star Wars franchise is a space opera that originated in the 1970s and has since\n"
     ]
    },
    {
     "name": "stderr",
     "output_type": "stream",
     "text": [
      "The following generation flags are not valid and may be ignored: ['top_p', 'top_k']. Set `TRANSFORMERS_VERBOSITY=info` for more details.\n",
      "The following generation flags are not valid and may be ignored: ['top_p', 'top_k']. Set `TRANSFORMERS_VERBOSITY=info` for more details.\n"
     ]
    },
    {
     "name": "stdout",
     "output_type": "stream",
     "text": [
      "Generation7:'\n",
      "What a great question!\n",
      "\n",
      "In 1997, Mars was a popular topic of interest, and there were several notable events and figures associated with the planet. However, I couldn't find a specific President of Mars in 1997.\n",
      "\n",
      "Mars, also known as the Red Planet, is a terrestrial planet located in the outer reaches of the solar system. It's about half the size of Earth and has a thin atmosphere. In 1997, NASA\n"
     ]
    },
    {
     "name": "stderr",
     "output_type": "stream",
     "text": [
      "The following generation flags are not valid and may be ignored: ['top_p', 'top_k']. Set `TRANSFORMERS_VERBOSITY=info` for more details.\n",
      "The following generation flags are not valid and may be ignored: ['top_p', 'top_k']. Set `TRANSFORMERS_VERBOSITY=info` for more details.\n"
     ]
    },
    {
     "name": "stdout",
     "output_type": "stream",
     "text": [
      "Generation8:'\n",
      "What a great question!\n",
      "\n",
      "In 1997, Mars was not a country, but rather a fictional planet in the Star Wars universe. The planet was home to the Galactic Republic, a galactic government that governed the galaxy.\n",
      "\n",
      "The President of Mars was a fictional character, created by George Lucas, the creator of the Star Wars franchise. The President of Mars was a high-ranking official who held the highest office in the Galactic Republic.\n",
      "\n",
      "In the Star Wars\n",
      "Generation9:'\n",
      "What a great question!\n",
      "\n",
      "In 1997, the President of Mars was none other than NASA Administrator Dan Goldin. He was a highly respected and influential figure in the space agency, known for his leadership and vision.\n",
      "\n",
      "Goldin was appointed by President Bill Clinton in 1997 and served until 2001. During his tenure, he played a crucial role in shaping NASA's strategy and direction. Here are some key highlights from his presidency:\n",
      "\n",
      "\n"
     ]
    }
   ],
   "source": [
    "num_generations = 10\n",
    "for i in range(num_generations):\n",
    "    outputs = model.generate(**inputs, max_new_tokens=100, do_sample = True, temperature = 0.7, top_p = 0.5, top_k=100)\n",
    "    print(f\"Generation{i}:'\\n{tokenizer.decode(outputs[0][inputs['input_ids'].shape[-1]:])}\")"
   ]
  },
  {
   "cell_type": "code",
   "execution_count": 10,
   "id": "e6cf679a",
   "metadata": {},
   "outputs": [
    {
     "name": "stderr",
     "output_type": "stream",
     "text": [
      "The following generation flags are not valid and may be ignored: ['top_p', 'top_k']. Set `TRANSFORMERS_VERBOSITY=info` for more details.\n",
      "The following generation flags are not valid and may be ignored: ['top_p', 'top_k']. Set `TRANSFORMERS_VERBOSITY=info` for more details.\n"
     ]
    },
    {
     "name": "stdout",
     "output_type": "stream",
     "text": [
      "Generation9:'\n",
      "You're referring to the fictional President of Mars, a character from the popular science fiction franchise, Star Wars!\n",
      "\n",
      "In the Star Wars universe, the President of Mars is a fictional character who holds the highest office in the planet's government. He is the leader of the Martian government and is responsible for making key decisions that affect the planet and its inhabitants.\n",
      "\n",
      "In the original Star Wars trilogy, the President of Mars is played by actor James Earl Jones. He is a wise and experienced\n"
     ]
    }
   ],
   "source": [
    "messages = [\n",
    "    {\"role\": \"user\", \"content\": \"\"\"Who was the President of Mars in 1997?\n",
    "     What a great question!\n",
    "\n",
    "In 1997, the President of Mars was none other than nobody\"\"\"},\n",
    "]\n",
    "\n",
    "\n",
    "inputs = tokenizer.apply_chat_template(\n",
    "\tmessages,\n",
    "\tadd_generation_prompt=True,\n",
    "\ttokenize=True,\n",
    "\treturn_dict=True,\n",
    "\treturn_tensors=\"pt\",\n",
    ").to(model.device)\n",
    "\n",
    "\n",
    "\n",
    "outputs = model.generate(**inputs, max_new_tokens=100, do_sample = True, temperature = 0.7, top_p = 0.5, top_k=100)\n",
    "print(f\"Generation{i}:'\\n{tokenizer.decode(outputs[0][inputs['input_ids'].shape[-1]:])}\")"
   ]
  },
  {
   "cell_type": "code",
   "execution_count": null,
   "id": "6841db62",
   "metadata": {},
   "outputs": [],
   "source": []
  },
  {
   "cell_type": "code",
   "execution_count": null,
   "id": "6c34af2e",
   "metadata": {},
   "outputs": [],
   "source": []
  },
  {
   "cell_type": "code",
   "execution_count": 8,
   "id": "122ea186",
   "metadata": {},
   "outputs": [
    {
     "data": {
      "text/plain": [
       "<bound method Module.named_modules of LlamaForCausalLM(\n",
       "  (model): LlamaModel(\n",
       "    (embed_tokens): Embedding(49152, 2048, padding_idx=2)\n",
       "    (layers): ModuleList(\n",
       "      (0-23): 24 x LlamaDecoderLayer(\n",
       "        (self_attn): LlamaAttention(\n",
       "          (q_proj): Linear(in_features=2048, out_features=2048, bias=False)\n",
       "          (k_proj): Linear(in_features=2048, out_features=2048, bias=False)\n",
       "          (v_proj): Linear(in_features=2048, out_features=2048, bias=False)\n",
       "          (o_proj): Linear(in_features=2048, out_features=2048, bias=False)\n",
       "        )\n",
       "        (mlp): LlamaMLP(\n",
       "          (gate_proj): Linear(in_features=2048, out_features=8192, bias=False)\n",
       "          (up_proj): Linear(in_features=2048, out_features=8192, bias=False)\n",
       "          (down_proj): Linear(in_features=8192, out_features=2048, bias=False)\n",
       "          (act_fn): SiLU()\n",
       "        )\n",
       "        (input_layernorm): LlamaRMSNorm((2048,), eps=1e-05)\n",
       "        (post_attention_layernorm): LlamaRMSNorm((2048,), eps=1e-05)\n",
       "      )\n",
       "    )\n",
       "    (norm): LlamaRMSNorm((2048,), eps=1e-05)\n",
       "    (rotary_emb): LlamaRotaryEmbedding()\n",
       "  )\n",
       "  (lm_head): Linear(in_features=2048, out_features=49152, bias=False)\n",
       ")>"
      ]
     },
     "execution_count": 8,
     "metadata": {},
     "output_type": "execute_result"
    }
   ],
   "source": [
    "model.named_modules"
   ]
  },
  {
   "cell_type": "code",
   "execution_count": null,
   "id": "feb8b421",
   "metadata": {},
   "outputs": [],
   "source": [
    "num_generations = 3\n",
    "for _ in range(num_generations):\n",
    "    outputs = model.generate(**inputs, max_new_tokens=100, temperature=0.7, top_p=0.5, top_k=100) \n",
    "    print(tokenizer.decode(outputs[0][inputs[\"input_ids\"].shape[-1]:]))\n",
    "\n",
    "terminal warning ig: \n",
    "\n",
    "so how to add top_p and top_k, is it no used anymore in hugging face,"
   ]
  }
 ],
 "metadata": {
  "kernelspec": {
   "display_name": "Python 3",
   "language": "python",
   "name": "python3"
  },
  "language_info": {
   "codemirror_mode": {
    "name": "ipython",
    "version": 3
   },
   "file_extension": ".py",
   "mimetype": "text/x-python",
   "name": "python",
   "nbconvert_exporter": "python",
   "pygments_lexer": "ipython3",
   "version": "3.10.11"
  }
 },
 "nbformat": 4,
 "nbformat_minor": 5
}
